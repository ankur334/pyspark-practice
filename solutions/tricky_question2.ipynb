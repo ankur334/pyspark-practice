{
  "nbformat": 4,
  "nbformat_minor": 0,
  "metadata": {
    "colab": {
      "provenance": [],
      "authorship_tag": "ABX9TyMk5M4dyvSI/E+5q1gAMefZ",
      "include_colab_link": true
    },
    "kernelspec": {
      "name": "python3",
      "display_name": "Python 3"
    },
    "language_info": {
      "name": "python"
    }
  },
  "cells": [
    {
      "cell_type": "markdown",
      "metadata": {
        "id": "view-in-github",
        "colab_type": "text"
      },
      "source": [
        "<a href=\"https://colab.research.google.com/github/ankur334/pyspark-practice/blob/tricky-pyspark-problems/solutions/tricky_question2.ipynb\" target=\"_parent\"><img src=\"https://colab.research.google.com/assets/colab-badge.svg\" alt=\"Open In Colab\"/></a>"
      ]
    },
    {
      "cell_type": "code",
      "source": [
        "!pip install pyspark"
      ],
      "metadata": {
        "colab": {
          "base_uri": "https://localhost:8080/"
        },
        "id": "3I9MOrzIQ9yP",
        "outputId": "ed28b8f4-b96d-4daf-e4cd-a25d948091cc"
      },
      "execution_count": 1,
      "outputs": [
        {
          "output_type": "stream",
          "name": "stdout",
          "text": [
            "Collecting pyspark\n",
            "  Downloading pyspark-3.5.1.tar.gz (317.0 MB)\n",
            "\u001b[2K     \u001b[90m━━━━━━━━━━━━━━━━━━━━━━━━━━━━━━━━━━━━━━━━\u001b[0m \u001b[32m317.0/317.0 MB\u001b[0m \u001b[31m2.7 MB/s\u001b[0m eta \u001b[36m0:00:00\u001b[0m\n",
            "\u001b[?25h  Preparing metadata (setup.py) ... \u001b[?25l\u001b[?25hdone\n",
            "Requirement already satisfied: py4j==0.10.9.7 in /usr/local/lib/python3.10/dist-packages (from pyspark) (0.10.9.7)\n",
            "Building wheels for collected packages: pyspark\n",
            "  Building wheel for pyspark (setup.py) ... \u001b[?25l\u001b[?25hdone\n",
            "  Created wheel for pyspark: filename=pyspark-3.5.1-py2.py3-none-any.whl size=317488491 sha256=1cb3df77131ef27e699be912315b263c4372d2bfd3a88395a5211929778f98e8\n",
            "  Stored in directory: /root/.cache/pip/wheels/80/1d/60/2c256ed38dddce2fdd93be545214a63e02fbd8d74fb0b7f3a6\n",
            "Successfully built pyspark\n",
            "Installing collected packages: pyspark\n",
            "Successfully installed pyspark-3.5.1\n"
          ]
        }
      ]
    },
    {
      "cell_type": "markdown",
      "source": [
        "#**Ques1**\n",
        "##**Word Count Program**"
      ],
      "metadata": {
        "id": "joLUC55UQ1Mq"
      }
    },
    {
      "cell_type": "code",
      "execution_count": 3,
      "metadata": {
        "colab": {
          "base_uri": "https://localhost:8080/"
        },
        "id": "SWw7_UsjQwGp",
        "outputId": "232e0e33-ec19-4640-9d8c-88cf62dd0a2a"
      },
      "outputs": [
        {
          "output_type": "stream",
          "name": "stdout",
          "text": [
            "+-----------+-----+\n",
            "|       word|count|\n",
            "+-----------+-----+\n",
            "|        the|   11|\n",
            "|          a|    7|\n",
            "|         of|    5|\n",
            "|     amelia|    4|\n",
            "|bartholomew|    3|\n",
            "| manuscript|    3|\n",
            "|        was|    2|\n",
            "|    captain|    2|\n",
            "|         on|    2|\n",
            "|     within|    2|\n",
            "+-----------+-----+\n",
            "only showing top 10 rows\n",
            "\n"
          ]
        }
      ],
      "source": [
        "from pyspark.sql import SparkSession\n",
        "from pyspark.sql.functions import explode\n",
        "from pyspark.sql import SparkSession\n",
        "from pyspark.sql.functions import split, col\n",
        "from pyspark.sql.functions import explode\n",
        "from pyspark.sql.functions import lower\n",
        "from pyspark.sql.functions import regexp_extract\n",
        "\n",
        "# Create a Spark session\n",
        "\n",
        "spark = SparkSession.builder.appName(\"WordCountData\").getOrCreate()\n",
        "\n",
        "df = spark.read.text('file:///content/sample_data/sample_data.txt')  #change path as per your system\n",
        "\n",
        "#print(df.show(truncate=False))\n",
        "\n",
        "# +--------------------+\n",
        "# |               value|\n",
        "# +--------------------+\n",
        "# |Professor Amelia ...|\n",
        "# |                    |\n",
        "# |renowned historia...|\n",
        "# |                    |\n",
        "# |                    |\n",
        "# | The last documen...|\n",
        "# |                    |\n",
        "# |Determined, Ameli...|\n",
        "# |                    |\n",
        "# |Title: The Curiou...|\n",
        "# |                    |\n",
        "# |Posting Date: Mar...|\n",
        "# |                    |\n",
        "# |   Language: English|\n",
        "# |                    |\n",
        "# |Character set enc...|\n",
        "# +--------------------+\n",
        "\n",
        "lines = df.select(split(col(\"value\"), \" \").alias(\"line\"))\n",
        "#print(lines.collect())\n",
        "###[Row(line=['Professor', 'Amelia', 'Moore,']), Row(line=['']) ......]\n",
        "\n",
        "words = lines.select(explode(col(\"line\")).alias(\"word\"))\n",
        "# Cleaning : lowering and removing punctuations\n",
        "\n",
        "words_lower = words.select(lower(col(\"word\")).alias(\"word_lower\"))\n",
        "words_clean = words_lower.select(regexp_extract(col(\"word_lower\"), \"[a-z]+\", 0).alias(\"word\"))\n",
        "\n",
        "#print(words_clean.collect())\n",
        "###[Row(word='professor'), Row(word='amelia'), Row(word='moore'), Row(word=''),....]\n",
        "\n",
        "words_nonnull = words_clean.filter(col(\"word\") != \"\")\n",
        "groups = words_nonnull.groupby(col(\"word\")).count()\n",
        "groups.orderBy(\"count\", ascending=False).show(10)\n",
        "\n"
      ]
    },
    {
      "cell_type": "code",
      "source": [],
      "metadata": {
        "id": "NjupIXf2Q_AU"
      },
      "execution_count": null,
      "outputs": []
    }
  ]
}