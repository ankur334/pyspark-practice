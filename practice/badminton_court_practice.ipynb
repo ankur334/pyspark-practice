{
  "nbformat": 4,
  "nbformat_minor": 0,
  "metadata": {
    "colab": {
      "provenance": []
    },
    "kernelspec": {
      "name": "python3",
      "display_name": "Python 3"
    },
    "language_info": {
      "name": "python"
    }
  },
  "cells": [
    {
      "cell_type": "code",
      "execution_count": 1,
      "metadata": {
        "colab": {
          "base_uri": "https://localhost:8080/"
        },
        "id": "xf_6WLhz38FN",
        "outputId": "6d260f12-14b3-4f9e-963f-e123bdd01acd"
      },
      "outputs": [
        {
          "output_type": "stream",
          "name": "stdout",
          "text": [
            "Collecting pyspark\n",
            "  Downloading pyspark-3.5.1.tar.gz (317.0 MB)\n",
            "\u001b[2K     \u001b[90m━━━━━━━━━━━━━━━━━━━━━━━━━━━━━━━━━━━━━━━━\u001b[0m \u001b[32m317.0/317.0 MB\u001b[0m \u001b[31m2.6 MB/s\u001b[0m eta \u001b[36m0:00:00\u001b[0m\n",
            "\u001b[?25h  Preparing metadata (setup.py) ... \u001b[?25l\u001b[?25hdone\n",
            "Requirement already satisfied: py4j==0.10.9.7 in /usr/local/lib/python3.10/dist-packages (from pyspark) (0.10.9.7)\n",
            "Building wheels for collected packages: pyspark\n",
            "  Building wheel for pyspark (setup.py) ... \u001b[?25l\u001b[?25hdone\n",
            "  Created wheel for pyspark: filename=pyspark-3.5.1-py2.py3-none-any.whl size=317488491 sha256=25800fbbdfcf5d182aa76c839604ba4261fcce743a3ba7e3d79823cc785c3758\n",
            "  Stored in directory: /root/.cache/pip/wheels/80/1d/60/2c256ed38dddce2fdd93be545214a63e02fbd8d74fb0b7f3a6\n",
            "Successfully built pyspark\n",
            "Installing collected packages: pyspark\n",
            "Successfully installed pyspark-3.5.1\n"
          ]
        }
      ],
      "source": [
        "!pip install pyspark\n"
      ]
    },
    {
      "cell_type": "markdown",
      "source": [
        "*italicized text*# Badminton court\n",
        "\n",
        "\n",
        "\n",
        "```\n",
        "Table: badminton_court\n",
        "\n",
        "+----------------+---------+\n",
        "| Column Name    | Type    |\n",
        "+----------------+---------+\n",
        "| user_id        | int     |\n",
        "| kit_id         | int     |\n",
        "| login_date     | date    |\n",
        "| sessions_count | int     |\n",
        "+----------------+---------+\n",
        "\n",
        "```\n",
        "\n",
        "\n",
        "\n",
        "\n",
        "*   (user_id, login_date) is the primary key of this table.\n",
        "*   This table records the sessions of users who visit the badminiton court\n",
        "* Each row logs a user's activity for the day, indicating the number of sessions  played\n",
        "* It also shows the kit_id that player has used on particular day.\n",
        "\n"
      ],
      "metadata": {
        "id": "8jsVD-NvqPRx"
      }
    },
    {
      "cell_type": "markdown",
      "source": [],
      "metadata": {
        "id": "LLsnFI5GvfoR"
      }
    },
    {
      "cell_type": "code",
      "source": [
        "from pyspark.sql import SparkSession\n",
        "from pyspark.sql.window import Window\n",
        "from pyspark.sql.functions import rank, dense_rank, col, sum as f_sum, lead, min as f_min, datediff, to_date\n",
        "from pyspark.sql.types import IntegerType, BooleanType, DateType\n",
        "\n",
        "\n",
        "spark = SparkSession.builder.appName('thebigdatashow.me').getOrCreate()\n",
        "\n",
        "badminton_court_data = [\n",
        "    (1, 2, \"2016-03-01\", 5),\n",
        "    (1, 2, \"2016-03-02\", 6),\n",
        "    (2, 3, \"2017-06-25\", 1),\n",
        "    (3, 1, \"2016-03-02\", 2),\n",
        "    (3, 4, \"2016-03-02\", 3),\n",
        "    (3, 2, \"2018-07-03\", 5)\n",
        "    ]\n",
        "print(badminton_court_data)\n",
        "\n",
        "coloumns = [\"user_id\", \"kit_id\", \"login_date\", \"sessions_count\"]\n",
        "\n",
        "court_input_df = spark.createDataFrame(badminton_court_data, coloumns)\n",
        "\n",
        "court_input_df.show()\n",
        "court_input_df.printSchema()"
      ],
      "metadata": {
        "colab": {
          "base_uri": "https://localhost:8080/"
        },
        "id": "bwDgcWxPsitZ",
        "outputId": "5c3392e6-d45d-4fe2-d784-74a68803f8a5"
      },
      "execution_count": 2,
      "outputs": [
        {
          "output_type": "stream",
          "name": "stdout",
          "text": [
            "[(1, 2, '2016-03-01', 5), (1, 2, '2016-03-02', 6), (2, 3, '2017-06-25', 1), (3, 1, '2016-03-02', 2), (3, 4, '2016-03-02', 3), (3, 2, '2018-07-03', 5)]\n",
            "+-------+------+----------+--------------+\n",
            "|user_id|kit_id|login_date|sessions_count|\n",
            "+-------+------+----------+--------------+\n",
            "|      1|     2|2016-03-01|             5|\n",
            "|      1|     2|2016-03-02|             6|\n",
            "|      2|     3|2017-06-25|             1|\n",
            "|      3|     1|2016-03-02|             2|\n",
            "|      3|     4|2016-03-02|             3|\n",
            "|      3|     2|2018-07-03|             5|\n",
            "+-------+------+----------+--------------+\n",
            "\n",
            "root\n",
            " |-- user_id: long (nullable = true)\n",
            " |-- kit_id: long (nullable = true)\n",
            " |-- login_date: string (nullable = true)\n",
            " |-- sessions_count: long (nullable = true)\n",
            "\n"
          ]
        }
      ]
    },
    {
      "cell_type": "code",
      "source": [
        "# Task 1: Convert the login_date from string column to Date column. Hint - Use withColumn\n",
        "\n",
        "\n",
        "\n",
        "\n",
        "\n"
      ],
      "metadata": {
        "id": "WKLVc-Gv1ZzJ"
      },
      "execution_count": 3,
      "outputs": []
    },
    {
      "cell_type": "markdown",
      "source": [
        "# **Objective**: **Create a query to find the first login date for each user from the \"badminton_court\" table..**\n",
        "\n",
        "**Result Format**: Return the result table in any order, as shown in the example below.\n",
        "\n",
        "#### Example:\n",
        "\n",
        "```\n",
        "Input:\n",
        "badminton_court table:\n",
        "+---------+-----------+------------+---------------+\n",
        "| user_id | kit_id | login_date | sessions_count   |\n",
        "+---------+-----------+------------+---------------+\n",
        "| 1       | 2         | 2016-03-01 | 5             |\n",
        "| 1       | 2         | 2016-03-02 | 6             |\n",
        "| 2       | 3         | 2017-06-25 | 1             |\n",
        "| 3       | 1         | 2016-03-02 | 2             |\n",
        "| 3       | 4         | 2016-03-02 | 3             |\n",
        "| 3       | 2         | 2018-07-03 | 5             |\n",
        "+---------+-----------+------------+---------------+\n",
        "\n",
        "Output:\n",
        "+---------+--------------+\n",
        "| user_id | first_login  |\n",
        "+---------+--------------+\n",
        "| 1       | 2016-03-01   |\n",
        "| 2       | 2017-06-25   |\n",
        "| 3       | 2016-03-02   |\n",
        "+---------+--------------+\n",
        "\n",
        "\n",
        "```"
      ],
      "metadata": {
        "id": "0E6wdFYMvRt9"
      }
    },
    {
      "cell_type": "code",
      "source": [
        "# Task 2: Create a query to find the first login date for each user from the \"badminton_court\" table\n",
        "\n",
        "\n",
        "\n"
      ],
      "metadata": {
        "id": "Yh5ab2CovmH-"
      },
      "execution_count": 4,
      "outputs": []
    },
    {
      "cell_type": "markdown",
      "source": [],
      "metadata": {
        "id": "2cEChX_5v7Li"
      }
    },
    {
      "cell_type": "markdown",
      "source": [
        "# Develop a query to identify the first badminton kit used by each player to log in, utilizing the \"badminton_court\" table. If there some player has used more than one kit on first day then show the all the kits that is used on first day.\n",
        "\n",
        "```\n",
        "Expected Output:\n",
        "+-----------+-----------+\n",
        "| player_id | kit_id |\n",
        "+-----------+-----------+\n",
        "| 1         | 2         |\n",
        "| 2         | 3         |\n",
        "| 3         | 1         |\n",
        "| 3         | 4         |\n",
        "+-----------+-----------+\n",
        "```"
      ],
      "metadata": {
        "id": "LktBmbvMv-3A"
      }
    },
    {
      "cell_type": "code",
      "source": [
        "# Task 3: Identify the first badminton kit used by each player\n",
        "\n",
        "\n",
        "\n",
        "\n"
      ],
      "metadata": {
        "id": "qyYT2cUJwS6X"
      },
      "execution_count": 5,
      "outputs": []
    },
    {
      "cell_type": "markdown",
      "source": [
        "# Show the list of first badminton kit used by player on their first day.\n",
        "\n",
        "\n",
        "```\n",
        "Expected Output:\n",
        "+-----------+-----------+\n",
        "| player_id | kits      |\n",
        "+-----------+-----------+\n",
        "| 1         | [2]       |\n",
        "| 2         | [3]       |\n",
        "| 3         | [1, 4]    |\n",
        "+-----------+-----------+\n",
        "```"
      ],
      "metadata": {
        "id": "TXM3kt-OxKmz"
      }
    },
    {
      "cell_type": "markdown",
      "source": [
        "## Write a solution to report for each player and date, how many games played so far by the player i.e the total number of games played by the player until that date.\n",
        "\n",
        "Expected Output\n",
        "\n",
        "```\n",
        "+---------+-----------+------------+----------------+--------------+\n",
        "| user_id | kit_id    | login_date | sessions_count | games_played |\n",
        "+---------+-----------+------------+----------------+--------------+\n",
        "| 1       | 2         | 2016-03-01 | 5              |5             |\n",
        "| 1       | 2         | 2016-03-02 | 6              |11            |\n",
        "| 2       | 3         | 2017-06-25 | 1              |1             |\n",
        "| 3       | 1         | 2016-03-02 | 2              |5             |\n",
        "| 3       | 4         | 2016-03-02 | 3              |5             |\n",
        "| 3       | 2         | 2018-07-03 | 5              |10             |\n",
        "+---------+-----------+------------+----------------+--------------+\n",
        "```"
      ],
      "metadata": {
        "id": "8ijCDrB5yEDX"
      }
    },
    {
      "cell_type": "code",
      "source": [
        "# Task 3: Write a solution to report for each player and date, how many games played so far by the player\n",
        "#         i.e the total number of games played by the player until that date.\n",
        "\n",
        "\n",
        "\n"
      ],
      "metadata": {
        "id": "GhZ9u2lHyLuz"
      },
      "execution_count": 6,
      "outputs": []
    },
    {
      "cell_type": "markdown",
      "source": [],
      "metadata": {
        "id": "2vMizBwq8f_H"
      }
    },
    {
      "cell_type": "markdown",
      "source": [
        "# Users who logged in on the day immediately following their initial login date\n",
        "\n",
        "```\n",
        "+---------+\n",
        "| user_id |\n",
        "+---------+\n",
        "| 1       |\n",
        "+---------+\n",
        "```\n",
        "\n",
        "\n"
      ],
      "metadata": {
        "id": "lUNc_hIozoyU"
      }
    },
    {
      "cell_type": "code",
      "source": [
        "# Task 4: Users who logged in on the day immediately following their initial login date\n",
        "\n",
        "\n",
        "\n",
        "\n"
      ],
      "metadata": {
        "id": "1Ze2ifYDz65P"
      },
      "execution_count": 7,
      "outputs": []
    }
  ]
}